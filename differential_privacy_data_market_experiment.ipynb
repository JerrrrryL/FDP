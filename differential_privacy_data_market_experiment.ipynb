{
 "cells": [
  {
   "cell_type": "code",
   "execution_count": 2,
   "metadata": {
    "id": "qBPlpEDxAzQs",
    "tags": []
   },
   "outputs": [],
   "source": [
    "import pandas as pd \n",
    "import numpy as np\n",
    "import math\n",
    "import random\n",
    "import sklearn.datasets"
   ]
  },
  {
   "cell_type": "code",
   "execution_count": null,
   "metadata": {},
   "outputs": [],
   "source": []
  },
  {
   "cell_type": "code",
   "execution_count": 3,
   "metadata": {
    "tags": []
   },
   "outputs": [
    {
     "data": {
      "text/plain": [
       "array([[ 2.22543452, -0.85963102],\n",
       "       [-0.85963102,  1.20036952]])"
      ]
     },
     "execution_count": 3,
     "metadata": {},
     "output_type": "execute_result"
    }
   ],
   "source": [
    "sklearn.datasets.make_spd_matrix(2)"
   ]
  },
  {
   "cell_type": "code",
   "execution_count": 4,
   "metadata": {
    "tags": []
   },
   "outputs": [],
   "source": [
    "\n",
    "def get_pos_def_mean_cov(num_att):\n",
    "    cov = sklearn.datasets.make_spd_matrix(num_att)\n",
    "    mean, cov = get_mean_cov(num_att)\n",
    "    while not is_pos_def(cov):\n",
    "         mean, cov = get_mean_cov(num_att)\n",
    "    return mean, cov\n"
   ]
  },
  {
   "cell_type": "code",
   "execution_count": 36,
   "metadata": {
    "tags": []
   },
   "outputs": [],
   "source": [
    "\n",
    "def get_pos_def_mean_cov(num_att):\n",
    "    cov = sklearn.datasets.make_spd_matrix(num_att)\n",
    "    mean = [2* (random.random() - 0.5) for _ in range(num_att)]\n",
    "    return mean, cov\n",
    "\n",
    "\n",
    "def is_pos_def(x):\n",
    "    return np.all(np.linalg.eigvals(x) > 0)\n",
    "\n",
    "# clip rows above b in the dataframe\n",
    "def clip_data(df, b):\n",
    "    for i, row in df.iterrows():\n",
    "        cur_norm = np.linalg.norm(row.to_numpy())\n",
    "        if cur_norm > b:\n",
    "            df.at[i] = row * b / cur_norm\n",
    "\n",
    "def union_sensitivity(b):\n",
    "    return math.sqrt(4*b**4 + 4*b**2)\n",
    "\n",
    "def join_sensitivity(b):\n",
    "    return max(math.sqrt(4*b**4 + 4*b**2), math.sqrt(2 + 2*B**2 + 2*B**4))\n",
    "            \n",
    "# iterate each row of df and compute the largest l2 norm\n",
    "def get_l2_bound(df):\n",
    "    max_bound = 0\n",
    "    for _, row in df.iterrows():\n",
    "        cur_bound = 0\n",
    "        for col in df.columns:\n",
    "            cur_bound += row[col]**2\n",
    "        max_bound = max(max_bound, cur_bound)\n",
    "    return max_bound ** 0.5\n",
    "\n",
    "def get_l2_distance(a, b):\n",
    "    return np.linalg.norm(a - b)\n",
    "\n",
    "def get_cos_sim(a, b):\n",
    "    return np.dot(a, b)/(np.linalg.norm(a)*np.linalg.norm(b))"
   ]
  },
  {
   "cell_type": "code",
   "execution_count": 37,
   "metadata": {
    "tags": []
   },
   "outputs": [],
   "source": [
    "# std of natural distirbution for guassian noises\n",
    "def compute_std(eps, delta, sensitivity=1):\n",
    "    return (2*math.log(1.25/delta))**0.5*sensitivity/eps\n",
    "\n",
    "# return the coefficients of features and a constant \n",
    "def ridge_linear_regression(cov_matrix, features, result, alpha):\n",
    "    a = np.empty([len(features) + 1, len(features) + 1])\n",
    "    b = np.empty(len(features) + 1)\n",
    "    \n",
    "    for i in range(len(features)):\n",
    "        for j in range(len(features)):\n",
    "            if 'cov:Q:' + features[i] + \",\"+ features[j] in cov_matrix:\n",
    "                a[i][j] = cov_matrix['cov:Q:' + features[i] + \",\"+ features[j]]\n",
    "            else:\n",
    "                a[i][j] = cov_matrix['cov:Q:' + features[j] + \",\"+ features[i]]\n",
    "        if i == j:\n",
    "            a[i][i] += alpha\n",
    "    \n",
    "    for i in range(len(features)):\n",
    "        a[i][len(features)] = cov_matrix['cov:s:' + features[i]]\n",
    "        a[len(features)][i] = cov_matrix['cov:s:' + features[i]]\n",
    "        if 'cov:Q:' + result + \",\" + features[i] in cov_matrix:\n",
    "            b[i] = cov_matrix['cov:Q:' + result + \",\" + features[i]]\n",
    "        else:\n",
    "            b[i] = cov_matrix['cov:Q:' + features[i] + \",\" + result]\n",
    "    \n",
    "    b[len(features)] = cov_matrix['cov:s:' + result]\n",
    "    \n",
    "    a[len(features)][len(features)] = cov_matrix['cov:c']\n",
    "    return np.linalg.solve(a, b)\n",
    "\n",
    "\n",
    "def square_error(cov_matrix, features, result, parameter):\n",
    "    se = cov_matrix['cov:Q:'  + result + \",\" + result]\n",
    "    \n",
    "    for i in range(len(features)):\n",
    "        for j in range(len(features)):\n",
    "            if 'cov:Q:'  + features[i] + \",\" + features[j] in cov_matrix:\n",
    "                se += parameter[i] * parameter[j] * cov_matrix['cov:Q:'  + features[i] + \",\" + features[j]]\n",
    "            else:    \n",
    "                se += parameter[j] * parameter[i] * cov_matrix['cov:Q:'  + features[j] + \",\" + features[i]]\n",
    "    \n",
    "    for i in range(len(features)):\n",
    "        se += 2 * parameter[i] * parameter[-1] * cov_matrix['cov:s:'  + features[i]]\n",
    "        if 'cov:Q:' + result + \",\" + features[i] in cov_matrix:\n",
    "            se -= 2 * parameter[i] *  cov_matrix['cov:Q:' + result + \",\" + features[i]]\n",
    "        else:\n",
    "            se -= 2 * parameter[i] *  cov_matrix['cov:Q:' + features[i] + \",\" + result]\n",
    "    \n",
    "    se -= 2 * parameter[-1] * cov_matrix['cov:s:'  + result]\n",
    "    se += cov_matrix['cov:c'] * parameter[-1] * parameter[-1]\n",
    "\n",
    "    return se\n",
    "\n",
    "def total_sum_of_square(cov_matrix, result):\n",
    "    return cov_matrix['cov:Q:'  + result + \",\" + result] - cov_matrix['cov:s:'  + result] * cov_matrix['cov:s:'  + result] / cov_matrix['cov:c']\n",
    "\n",
    "def mean_squared_error(cov_matrix, features, result, parameter):\n",
    "    return square_error(cov_matrix, features, result, parameter)/cov_matrix['cov:c']\n",
    "\n",
    "\n",
    "def r2(cov_matrix, features, result, parameter):\n",
    "    result =  1 - square_error(cov_matrix, features, result, parameter)/total_sum_of_square(cov_matrix, result)\n",
    "    if result > 2:\n",
    "        # overflow\n",
    "        return -1\n",
    "    return result\n",
    "\n",
    "def adjusted_r2(cov_matrix, features, result, parameter):\n",
    "    return 1 - (cov_matrix['cov:c']-1)*(1 - r2(cov_matrix, features, result, parameter))/(cov_matrix['cov:c'] - len(parameter) - 1)\n",
    "\n",
    "# a wrapper class that keeps some meta data\n",
    "class agg_dataset:\n",
    "    # load data (in the format of dataframe)\n",
    "    # user provides dimensions to join (these dimensions will be pre-aggregated)\n",
    "    def load(self, data, X, dimensions):\n",
    "        self.data = data\n",
    "        self.dimensions = dimensions\n",
    "        self.X = X\n",
    "        \n",
    "    def semi_ring_columns(self):\n",
    "        return list(filter(lambda col: col.startswith(\"cov:\"), self.data.columns))\n",
    "    \n",
    "    # compute the semi-ring aggregation for each dimension\n",
    "    def compute_agg(self):\n",
    "        # build semi-ring structure\n",
    "        self.lift(self.X)\n",
    "        \n",
    "        self.agg_dimensions = dict()\n",
    "        \n",
    "        for d in self.dimensions:\n",
    "            self.agg_dimensions[d] = self.data[self.semi_ring_columns() + [d]].groupby(d).sum()\n",
    "        \n",
    "        # without groupby\n",
    "        self.agg = self.data[self.semi_ring_columns()].sum()\n",
    "        \n",
    "    # build gram matrix semi-ring\n",
    "    def lift(self, attributes):\n",
    "        self.data['cov:c'] = 1\n",
    "        for i in range(len(attributes)):\n",
    "            for j in range(i, len(attributes)):\n",
    "                self.data['cov:Q:' + attributes[i] + \",\" + attributes[j]] = self.data[attributes[i]] * self.data[attributes[j]]\n",
    "\n",
    "        for attribute in attributes:\n",
    "            self.data= self.data.rename(columns = {attribute:'cov:s:' + attribute})\n",
    "            \n",
    "\n",
    "# Given a gram matrix semi-ring, normalize it\n",
    "def normalize(cov, kept_old= False):\n",
    "    cols = []\n",
    "    \n",
    "    if isinstance(cov, pd.DataFrame):\n",
    "        cols = cov.columns\n",
    "    # this is for the final semiring, which is reduced to a single np array\n",
    "    else:\n",
    "        cov = cov.astype(float)\n",
    "        cols = list(cov.axes[0])\n",
    "        \n",
    "    for col in cols:\n",
    "        if col != 'cov:c':\n",
    "            cov[col] = cov[col]/cov['cov:c']\n",
    "    \n",
    "    if kept_old:\n",
    "        if isinstance(cov, pd.DataFrame):\n",
    "            # kept the old to estimate join result size\n",
    "            cov.rename(columns={'cov:c':'cov:c_old'}, inplace=True)\n",
    "            \n",
    "    cov['cov:c'] = 1\n",
    "    return cov\n",
    "\n",
    "def join_agg(aggdata1, aggdata2, dimension):\n",
    "    if isinstance(dimension, list):\n",
    "        dimension = tuple(dimension)\n",
    "    \n",
    "    agg1 = aggdata1.agg_dimensions[dimension]\n",
    "    agg2 = aggdata2.agg_dimensions[dimension]\n",
    "    \n",
    "    left_attributes = aggdata1.X\n",
    "    right_attributes = aggdata2.X\n",
    "\n",
    "    join = pd.merge(agg1, agg2, how='inner', left_index=True, right_index=True)\n",
    "#     print(join)\n",
    "    # disregard c as we assume that it's normalized\n",
    "    # so c should be both 1\n",
    "    join.drop('cov:c_y', 1, inplace=True)\n",
    "    join.rename(columns = {'cov:c_x':'cov:c'}, inplace=True)\n",
    "    \n",
    "    for att1 in left_attributes:\n",
    "        for att2 in right_attributes:\n",
    "            name = 'cov:Q:' + att1 + \",\" + att2\n",
    "            if name not in join:\n",
    "                name = 'cov:Q:' + att2 + \",\" + att1\n",
    "            join[name] = (join['cov:s:' + att2] * join['cov:s:' + att1])\n",
    "    \n",
    "    return join\n",
    "\n",
    "def unbiased_est(cov, buyer_att, seller_att, J, k):\n",
    "    for i in range(buyer_att):\n",
    "        for j in range(seller_att):\n",
    "            f1 = f'f{i}'\n",
    "            f2 = f'f{j + buyer_att}'\n",
    "            s1 = cov[f\"cov:s:{f1}\"]/(J*k)\n",
    "            s2 = cov[f\"cov:s:{f2}\"]/(J*k)\n",
    "            cov_name = f\"cov:Q:{f1},{f2}\"\n",
    "            if cov_name not in cov:\n",
    "                cov_name = f\"cov:Q:{f2},{f1}\"\n",
    "            s1s2 = cov[cov_name]/(J*k*k)\n",
    "            cov[cov_name] = (J**2 * k**2 - J*k)/(J-1)*s1s2 + (J**2 * k - J**2*k**2)/(J-1)*s1*s2\n",
    "    return cov"
   ]
  },
  {
   "cell_type": "code",
   "execution_count": null,
   "metadata": {},
   "outputs": [],
   "source": []
  },
  {
   "cell_type": "code",
   "execution_count": 52,
   "metadata": {
    "tags": []
   },
   "outputs": [],
   "source": [
    "# Demo use case for union\n",
    "\n",
    "# DP parameters\n",
    "eps = 1\n",
    "delta = 0.05\n",
    "bound = 10\n",
    "\n",
    "# data parameters\n",
    "num_att = 3\n",
    "num_rows = 5000\n",
    "columns = [f\"f{i}\" for i in range(num_att)]\n",
    "\n",
    "# create data\n",
    "mean, cov = get_pos_def_mean_cov(num_att)\n",
    "df = pd.DataFrame(np.random.multivariate_normal(mean, cov, num_rows), columns=columns)\n",
    "clip_data(df, bound)\n",
    "sensitivity = union_sensitivity(bound)\n",
    "# count can avoid noise by assuming a constant\n",
    "\n",
    "# we use the original dataset without noise as testing data\n",
    "testdata = agg_dataset()\n",
    "testdata.load(df.copy(deep=True), columns,[])\n",
    "testdata.compute_agg()\n",
    "\n",
    "noise = compute_std(eps, delta, sensitivity)\n",
    "\n",
    "# LDP impute noise after lift\n",
    "buyeragg_ldp = agg_dataset()\n",
    "buyeragg_ldp.load(df[:int(num_rows/2)].copy(deep=True), columns, [])\n",
    "buyeragg_ldp.compute_agg()\n",
    "\n",
    "selleragg_ldp = agg_dataset()\n",
    "selleragg_ldp.load(df[int(num_rows/2):].copy(deep=True), columns, [])\n",
    "selleragg_ldp.compute_agg()\n",
    "# impute noise\n",
    "for col in selleragg_ldp.semi_ring_columns():\n",
    "    selleragg_ldp.agg[col] += np.random.normal(0, noise*math.sqrt(len(selleragg_ldp.data)), 1)\n",
    "\n",
    "for col in buyeragg_ldp.semi_ring_columns():\n",
    "    buyeragg_ldp.agg[col] += np.random.normal(0, noise*math.sqrt(len(buyeragg_ldp.data)), 1)\n",
    "        \n",
    "union_train_cov_ldp = buyeragg_ldp.agg + selleragg_ldp.agg\n",
    "\n",
    "# FDP impute noise\n",
    "buyeragg = agg_dataset()\n",
    "buyeragg.load(df[:int(num_rows/2)].copy(deep=True), columns, [])\n",
    "buyeragg.compute_agg()\n",
    "\n",
    "selleragg = agg_dataset()\n",
    "selleragg.load(df[int(num_rows/2):].copy(deep=True), columns, [])\n",
    "selleragg.compute_agg()\n",
    "for col in selleragg.semi_ring_columns():\n",
    "    selleragg.agg[col] += np.random.normal(0, noise, 1)\n",
    "\n",
    "for col in buyeragg.semi_ring_columns():\n",
    "    buyeragg.agg[col] += np.random.normal(0, noise, 1)\n",
    "        \n",
    "union_train_cov = buyeragg.agg + selleragg.agg\n",
    "# we can choose to give up if covariance is not positive def"
   ]
  },
  {
   "cell_type": "code",
   "execution_count": 53,
   "metadata": {
    "tags": []
   },
   "outputs": [
    {
     "data": {
      "text/plain": [
       "78834.85375226934"
      ]
     },
     "execution_count": 53,
     "metadata": {},
     "output_type": "execute_result"
    }
   ],
   "source": [
    "# L2 norm of LDP cov and true cov\n",
    "get_l2_distance(testdata.agg.to_numpy(), union_train_cov_ldp.to_numpy())"
   ]
  },
  {
   "cell_type": "code",
   "execution_count": 54,
   "metadata": {
    "tags": []
   },
   "outputs": [
    {
     "data": {
      "text/plain": [
       "2295.3889400277913"
      ]
     },
     "execution_count": 54,
     "metadata": {},
     "output_type": "execute_result"
    }
   ],
   "source": [
    "# L2 norm of FDP cov and true cov\n",
    "get_l2_distance(testdata.agg.to_numpy(), union_train_cov.to_numpy())"
   ]
  },
  {
   "cell_type": "code",
   "execution_count": 55,
   "metadata": {
    "tags": []
   },
   "outputs": [
    {
     "data": {
      "text/plain": [
       "0.3664971434636182"
      ]
     },
     "execution_count": 55,
     "metadata": {},
     "output_type": "execute_result"
    }
   ],
   "source": [
    "X = columns[1:]\n",
    "y = columns[0]\n",
    "# L2 norm of FDP and true parameter\n",
    "ridge = 3\n",
    "pre_parameter = ridge_linear_regression(union_train_cov, X, y, ridge)\n",
    "true_parameter = ridge_linear_regression(testdata.agg, X, y, ridge)\n",
    "\n",
    "pre_r2 = r2(testdata.agg,  X, y, pre_parameter)\n",
    "true_r2 = r2(testdata.agg,  X, y, true_parameter)\n",
    "\n",
    "get_l2_distance(pre_parameter, true_parameter)"
   ]
  },
  {
   "cell_type": "code",
   "execution_count": 56,
   "metadata": {
    "tags": []
   },
   "outputs": [
    {
     "data": {
      "text/plain": [
       "1.7478175689597268"
      ]
     },
     "execution_count": 56,
     "metadata": {},
     "output_type": "execute_result"
    }
   ],
   "source": [
    "# L2 norm of LDP and true parameter\n",
    "pre_parameter = ridge_linear_regression(union_train_cov_ldp, X, y, ridge)\n",
    "true_parameter = ridge_linear_regression(testdata.agg, X, y, ridge)\n",
    "\n",
    "pre_r2 = r2(testdata.agg,  X, y, pre_parameter)\n",
    "true_r2 = r2(testdata.agg,  X, y, true_parameter)\n",
    "\n",
    "get_l2_distance(pre_parameter, true_parameter)"
   ]
  },
  {
   "cell_type": "code",
   "execution_count": 57,
   "metadata": {
    "tags": []
   },
   "outputs": [],
   "source": [
    "# study the effects of multiplicity\n",
    "result = []\n",
    "\n",
    "# DP parameters\n",
    "eps = 1\n",
    "delta = 0.05\n",
    "bound = 10\n",
    "\n",
    "\n",
    "\n",
    "for num_rows in [100, 500, 1000, 5000]:\n",
    "    for _ in range(10):\n",
    "\n",
    "        # data parameters\n",
    "        num_att = 3\n",
    "        columns = [f\"f{i}\" for i in range(num_att)]\n",
    "\n",
    "        # create data\n",
    "        mean, cov = get_pos_def_mean_cov(num_att)\n",
    "        df = pd.DataFrame(np.random.multivariate_normal(mean, cov, num_rows), columns=columns)\n",
    "        clip_data(df, bound)\n",
    "        sensitivity = (bound**4 + bound**2 + 1)**0.5\n",
    "        # count can avoid noise by assuming a constant\n",
    "\n",
    "        # we use the original dataset without noise as testing data\n",
    "        testdata = agg_dataset()\n",
    "        testdata.load(df.copy(deep=True), columns,[])\n",
    "        testdata.compute_agg()\n",
    "\n",
    "        buyeragg = agg_dataset()\n",
    "        buyeragg.load(df[:int(num_rows/2)].copy(deep=True), columns, [])\n",
    "        buyeragg.compute_agg()\n",
    "\n",
    "        selleragg = agg_dataset()\n",
    "        selleragg.load(df[int(num_rows/2):].copy(deep=True), columns, [])\n",
    "        selleragg.compute_agg()\n",
    "\n",
    "        noise = compute_std(eps, delta, sensitivity)\n",
    "\n",
    "        # impute noise\n",
    "        for col in selleragg.semi_ring_columns():\n",
    "            selleragg.agg[col] += np.random.normal(0, noise, 1)\n",
    "\n",
    "        for col in buyeragg.semi_ring_columns():\n",
    "            buyeragg.agg[col] += np.random.normal(0, noise, 1)\n",
    "\n",
    "        union_train_cov = buyeragg.agg + selleragg.agg\n",
    "        # we can choose to give up if covariance is not positive def\n",
    "\n",
    "        X = columns[1:]\n",
    "        y = columns[0]\n",
    "\n",
    "        ridge = 3\n",
    "        pre_parameter = ridge_linear_regression(union_train_cov, X, y, ridge)\n",
    "        true_parameter = ridge_linear_regression(testdata.agg, X, y, ridge)\n",
    "\n",
    "        pre_r2 = r2(testdata.agg,  X, y, pre_parameter)\n",
    "        true_r2 = r2(testdata.agg,  X, y, true_parameter)\n",
    "\n",
    "        dis = get_l2_distance(pre_parameter, true_parameter)\n",
    "        result.append([num_rows,dis])"
   ]
  },
  {
   "cell_type": "code",
   "execution_count": 58,
   "metadata": {
    "tags": []
   },
   "outputs": [
    {
     "data": {
      "text/plain": [
       "<matplotlib.axes._subplots.AxesSubplot at 0x7f732d27eb50>"
      ]
     },
     "execution_count": 58,
     "metadata": {},
     "output_type": "execute_result"
    }
   ],
   "source": [
    "pd.DataFrame.from_records(result, columns = ['num_rows','dis']).boxplot(by ='num_rows', column =['dis'], grid = False, showfliers=False)"
   ]
  },
  {
   "cell_type": "code",
   "execution_count": null,
   "metadata": {},
   "outputs": [],
   "source": []
  },
  {
   "cell_type": "code",
   "execution_count": null,
   "metadata": {},
   "outputs": [],
   "source": []
  },
  {
   "cell_type": "code",
   "execution_count": 662,
   "metadata": {},
   "outputs": [
    {
     "name": "stderr",
     "output_type": "stream",
     "text": [
      "/tmp/ipykernel_2125068/4232687330.py:145: FutureWarning: In a future version of pandas all arguments of DataFrame.drop except for the argument 'labels' will be keyword-only.\n",
      "  join.drop('cov:c_y', 1, inplace=True)\n",
      "/tmp/ipykernel_2125068/4232687330.py:145: FutureWarning: In a future version of pandas all arguments of DataFrame.drop except for the argument 'labels' will be keyword-only.\n",
      "  join.drop('cov:c_y', 1, inplace=True)\n",
      "/tmp/ipykernel_2125068/4232687330.py:145: FutureWarning: In a future version of pandas all arguments of DataFrame.drop except for the argument 'labels' will be keyword-only.\n",
      "  join.drop('cov:c_y', 1, inplace=True)\n",
      "/tmp/ipykernel_2125068/4232687330.py:145: FutureWarning: In a future version of pandas all arguments of DataFrame.drop except for the argument 'labels' will be keyword-only.\n",
      "  join.drop('cov:c_y', 1, inplace=True)\n",
      "/tmp/ipykernel_2125068/4232687330.py:145: FutureWarning: In a future version of pandas all arguments of DataFrame.drop except for the argument 'labels' will be keyword-only.\n",
      "  join.drop('cov:c_y', 1, inplace=True)\n",
      "/tmp/ipykernel_2125068/4232687330.py:145: FutureWarning: In a future version of pandas all arguments of DataFrame.drop except for the argument 'labels' will be keyword-only.\n",
      "  join.drop('cov:c_y', 1, inplace=True)\n",
      "/tmp/ipykernel_2125068/4232687330.py:145: FutureWarning: In a future version of pandas all arguments of DataFrame.drop except for the argument 'labels' will be keyword-only.\n",
      "  join.drop('cov:c_y', 1, inplace=True)\n",
      "/tmp/ipykernel_2125068/4232687330.py:145: FutureWarning: In a future version of pandas all arguments of DataFrame.drop except for the argument 'labels' will be keyword-only.\n",
      "  join.drop('cov:c_y', 1, inplace=True)\n",
      "/tmp/ipykernel_2125068/4232687330.py:145: FutureWarning: In a future version of pandas all arguments of DataFrame.drop except for the argument 'labels' will be keyword-only.\n",
      "  join.drop('cov:c_y', 1, inplace=True)\n",
      "/tmp/ipykernel_2125068/4232687330.py:145: FutureWarning: In a future version of pandas all arguments of DataFrame.drop except for the argument 'labels' will be keyword-only.\n",
      "  join.drop('cov:c_y', 1, inplace=True)\n"
     ]
    }
   ],
   "source": [
    "# Test unbiased estimator\n",
    "result = []\n",
    "\n",
    "# data parameters\n",
    "buyer_att = 2\n",
    "seller_att = 1\n",
    "num_att = buyer_att + seller_att\n",
    "num_group = 50\n",
    "num_rows_per_group = 100\n",
    "num_rows = num_group * num_rows_per_group\n",
    "columns = [f\"f{i}\" for i in range(num_att)]\n",
    "buyer_columns = columns[:buyer_att]\n",
    "seller_columns = columns[buyer_att:]\n",
    "\n",
    "for _ in range(10):\n",
    "    # create data\n",
    "    mean, cov = get_pos_def_mean_cov(num_att)\n",
    "    df = pd.DataFrame(np.random.multivariate_normal(mean, cov, num_rows), columns=columns)\n",
    "    joinkey = []\n",
    "    for i in range(num_group):\n",
    "        joinkey += [i] * num_rows_per_group \n",
    "    df[\"join_key\"] = joinkey\n",
    "\n",
    "    # we use the original dataset without noise as testing data\n",
    "    testdata = agg_dataset()\n",
    "    testdata.load(df.copy(deep=True), columns,[])\n",
    "    testdata.compute_agg()\n",
    "\n",
    "    buyeragg = agg_dataset()\n",
    "    buyeragg.load(df[buyer_columns + [\"join_key\"]].copy(deep=True), buyer_columns, [\"join_key\"])\n",
    "    buyeragg.compute_agg()\n",
    "\n",
    "    selleragg = agg_dataset()\n",
    "    selleragg.load(df[seller_columns + [\"join_key\"]].copy(deep=True), seller_columns, [\"join_key\"])\n",
    "    selleragg.compute_agg()\n",
    "    \n",
    "    join_train = join_agg(selleragg, buyeragg, \"join_key\")\n",
    "    join_train_cov = join_train.sum()\n",
    "    join_unbiased_train_cov = unbiased_est(join_train_cov.copy(deep=True), buyer_att, seller_att, num_group, num_rows_per_group)\n",
    "\n",
    "    X = columns[1:]\n",
    "    y = columns[0]\n",
    "\n",
    "    ridge = 0\n",
    "    pre_parameter = ridge_linear_regression(join_train_cov, X, y, ridge)\n",
    "    unbiased_parameter = ridge_linear_regression(join_unbiased_train_cov, X, y, ridge)\n",
    "    true_parameter = ridge_linear_regression(testdata.agg, X, y, ridge)\n",
    "\n",
    "    result.append([\"unbiased\", get_l2_distance(unbiased_parameter, true_parameter)])\n",
    "    result.append([\"naive\", get_l2_distance(pre_parameter, true_parameter)])"
   ]
  },
  {
   "cell_type": "code",
   "execution_count": 663,
   "metadata": {},
   "outputs": [
    {
     "data": {
      "text/plain": [
       "<AxesSubplot:title={'center':'dis'}, xlabel='type'>"
      ]
     },
     "execution_count": 663,
     "metadata": {},
     "output_type": "execute_result"
    },
    {
     "data": {
      "image/png": "[encoded data removed]",
      "text/plain": [
       "<Figure size 432x288 with 1 Axes>"
      ]
     },
     "metadata": {
      "needs_background": "light"
     },
     "output_type": "display_data"
    }
   ],
   "source": [
    "pd.DataFrame.from_records(result, columns = ['type','dis']).boxplot(by ='type', column =['dis'], grid = False, showfliers=False)"
   ]
  },
  {
   "cell_type": "code",
   "execution_count": null,
   "metadata": {},
   "outputs": [],
   "source": []
  },
  {
   "cell_type": "code",
   "execution_count": 59,
   "metadata": {
    "tags": []
   },
   "outputs": [
    {
     "name": "stderr",
     "output_type": "stream",
     "text": [
      "/opt/conda/lib/python3.7/site-packages/ipykernel_launcher.py:145: FutureWarning: In a future version of pandas all arguments of DataFrame.drop except for the argument 'labels' will be keyword-only\n"
     ]
    },
    {
     "data": {
      "text/plain": [
       "0.6988588103522232"
      ]
     },
     "execution_count": 59,
     "metadata": {},
     "output_type": "execute_result"
    }
   ],
   "source": [
    "# For join\n",
    "\n",
    "# DP parameters\n",
    "eps = 1\n",
    "delta = 0.05\n",
    "bound = 10\n",
    "\n",
    "# data parameters\n",
    "buyer_att = 2\n",
    "seller_att = 1\n",
    "num_att = buyer_att + seller_att\n",
    "num_group = 10\n",
    "num_rows_per_group = 3000\n",
    "num_rows = num_group * num_rows_per_group\n",
    "columns = [f\"f{i}\" for i in range(num_att)]\n",
    "buyer_columns = columns[:buyer_att]\n",
    "seller_columns = columns[buyer_att:]\n",
    "\n",
    "\n",
    "# create data\n",
    "mean, cov = get_pos_def_mean_cov(num_att)\n",
    "df = pd.DataFrame(np.random.multivariate_normal(mean, cov, num_rows), columns=columns)\n",
    "clip_data(df, bound)\n",
    "joinkey = []\n",
    "for i in range(num_group):\n",
    "    joinkey += [i] * num_rows_per_group \n",
    "df[\"join_key\"] = joinkey\n",
    "# bound = get_l2_bound(df)\n",
    "\n",
    "# multiplied by 2 because of histogram\n",
    "sensitivity = 2*(bound**4 + bound**2 + 1)**0.5\n",
    "\n",
    "# we use the original dataset without noise as testing data\n",
    "buyeragg = agg_dataset()\n",
    "buyeragg.load(df[buyer_columns + [\"join_key\"]].copy(deep=True), buyer_columns, [\"join_key\"])\n",
    "buyeragg.compute_agg()\n",
    "\n",
    "selleragg = agg_dataset()\n",
    "selleragg.load(df[seller_columns + [\"join_key\"]].copy(deep=True), seller_columns, [\"join_key\"])\n",
    "selleragg.compute_agg()\n",
    "\n",
    "join_train = join_agg(selleragg, buyeragg, \"join_key\")\n",
    "join_train_cov = join_train.sum()\n",
    "join_unbiased_train_cov = unbiased_est(join_train_cov.copy(deep=True), buyer_att, seller_att, num_group, num_rows_per_group)\n",
    "\n",
    "X = columns[1:]\n",
    "y = columns[0]\n",
    "ridge = 0\n",
    "unbiased_parameter = ridge_linear_regression(join_unbiased_train_cov, X, y, ridge)\n",
    "\n",
    "noise = compute_std(eps, delta, sensitivity)\n",
    "\n",
    "# impute noise\n",
    "for col in selleragg.semi_ring_columns():\n",
    "    selleragg.agg_dimensions[\"join_key\"][col] += np.random.normal(0, noise, len(selleragg.agg_dimensions[\"join_key\"]))\n",
    "\n",
    "for col in buyeragg.semi_ring_columns():\n",
    "    buyeragg.agg_dimensions[\"join_key\"][col] += np.random.normal(0, noise, len(buyeragg.agg_dimensions[\"join_key\"]))\n",
    "\n",
    "join_train = join_agg(selleragg, buyeragg, \"join_key\")\n",
    "join_train_cov = join_train.sum()\n",
    "join_unbiased_train_cov = unbiased_est(join_train_cov.copy(deep=True), buyer_att, seller_att, num_group, num_rows_per_group)\n",
    "noisy_parameter = ridge_linear_regression(join_unbiased_train_cov, X, y, ridge)\n",
    "\n",
    "get_l2_distance(unbiased_parameter, noisy_parameter)"
   ]
  },
  {
   "cell_type": "code",
   "execution_count": null,
   "metadata": {},
   "outputs": [],
   "source": []
  },
  {
   "cell_type": "code",
   "execution_count": 688,
   "metadata": {},
   "outputs": [
    {
     "name": "stderr",
     "output_type": "stream",
     "text": [
      "/tmp/ipykernel_2125068/4232687330.py:145: FutureWarning: In a future version of pandas all arguments of DataFrame.drop except for the argument 'labels' will be keyword-only.\n",
      "  join.drop('cov:c_y', 1, inplace=True)\n",
      "/tmp/ipykernel_2125068/4232687330.py:145: FutureWarning: In a future version of pandas all arguments of DataFrame.drop except for the argument 'labels' will be keyword-only.\n",
      "  join.drop('cov:c_y', 1, inplace=True)\n",
      "/tmp/ipykernel_2125068/4232687330.py:145: FutureWarning: In a future version of pandas all arguments of DataFrame.drop except for the argument 'labels' will be keyword-only.\n",
      "  join.drop('cov:c_y', 1, inplace=True)\n",
      "/tmp/ipykernel_2125068/4232687330.py:145: FutureWarning: In a future version of pandas all arguments of DataFrame.drop except for the argument 'labels' will be keyword-only.\n",
      "  join.drop('cov:c_y', 1, inplace=True)\n",
      "/tmp/ipykernel_2125068/4232687330.py:145: FutureWarning: In a future version of pandas all arguments of DataFrame.drop except for the argument 'labels' will be keyword-only.\n",
      "  join.drop('cov:c_y', 1, inplace=True)\n",
      "/tmp/ipykernel_2125068/4232687330.py:145: FutureWarning: In a future version of pandas all arguments of DataFrame.drop except for the argument 'labels' will be keyword-only.\n",
      "  join.drop('cov:c_y', 1, inplace=True)\n",
      "/tmp/ipykernel_2125068/4232687330.py:145: FutureWarning: In a future version of pandas all arguments of DataFrame.drop except for the argument 'labels' will be keyword-only.\n",
      "  join.drop('cov:c_y', 1, inplace=True)\n",
      "/tmp/ipykernel_2125068/4232687330.py:145: FutureWarning: In a future version of pandas all arguments of DataFrame.drop except for the argument 'labels' will be keyword-only.\n",
      "  join.drop('cov:c_y', 1, inplace=True)\n",
      "/tmp/ipykernel_2125068/4232687330.py:145: FutureWarning: In a future version of pandas all arguments of DataFrame.drop except for the argument 'labels' will be keyword-only.\n",
      "  join.drop('cov:c_y', 1, inplace=True)\n",
      "/tmp/ipykernel_2125068/4232687330.py:145: FutureWarning: In a future version of pandas all arguments of DataFrame.drop except for the argument 'labels' will be keyword-only.\n",
      "  join.drop('cov:c_y', 1, inplace=True)\n",
      "/tmp/ipykernel_2125068/4232687330.py:145: FutureWarning: In a future version of pandas all arguments of DataFrame.drop except for the argument 'labels' will be keyword-only.\n",
      "  join.drop('cov:c_y', 1, inplace=True)\n",
      "/tmp/ipykernel_2125068/4232687330.py:145: FutureWarning: In a future version of pandas all arguments of DataFrame.drop except for the argument 'labels' will be keyword-only.\n",
      "  join.drop('cov:c_y', 1, inplace=True)\n",
      "/tmp/ipykernel_2125068/4232687330.py:145: FutureWarning: In a future version of pandas all arguments of DataFrame.drop except for the argument 'labels' will be keyword-only.\n",
      "  join.drop('cov:c_y', 1, inplace=True)\n",
      "/tmp/ipykernel_2125068/4232687330.py:145: FutureWarning: In a future version of pandas all arguments of DataFrame.drop except for the argument 'labels' will be keyword-only.\n",
      "  join.drop('cov:c_y', 1, inplace=True)\n",
      "/tmp/ipykernel_2125068/4232687330.py:145: FutureWarning: In a future version of pandas all arguments of DataFrame.drop except for the argument 'labels' will be keyword-only.\n",
      "  join.drop('cov:c_y', 1, inplace=True)\n",
      "/tmp/ipykernel_2125068/4232687330.py:145: FutureWarning: In a future version of pandas all arguments of DataFrame.drop except for the argument 'labels' will be keyword-only.\n",
      "  join.drop('cov:c_y', 1, inplace=True)\n",
      "/tmp/ipykernel_2125068/4232687330.py:145: FutureWarning: In a future version of pandas all arguments of DataFrame.drop except for the argument 'labels' will be keyword-only.\n",
      "  join.drop('cov:c_y', 1, inplace=True)\n",
      "/tmp/ipykernel_2125068/4232687330.py:145: FutureWarning: In a future version of pandas all arguments of DataFrame.drop except for the argument 'labels' will be keyword-only.\n",
      "  join.drop('cov:c_y', 1, inplace=True)\n",
      "/tmp/ipykernel_2125068/4232687330.py:145: FutureWarning: In a future version of pandas all arguments of DataFrame.drop except for the argument 'labels' will be keyword-only.\n",
      "  join.drop('cov:c_y', 1, inplace=True)\n",
      "/tmp/ipykernel_2125068/4232687330.py:145: FutureWarning: In a future version of pandas all arguments of DataFrame.drop except for the argument 'labels' will be keyword-only.\n",
      "  join.drop('cov:c_y', 1, inplace=True)\n",
      "/tmp/ipykernel_2125068/4232687330.py:145: FutureWarning: In a future version of pandas all arguments of DataFrame.drop except for the argument 'labels' will be keyword-only.\n",
      "  join.drop('cov:c_y', 1, inplace=True)\n",
      "/tmp/ipykernel_2125068/4232687330.py:145: FutureWarning: In a future version of pandas all arguments of DataFrame.drop except for the argument 'labels' will be keyword-only.\n",
      "  join.drop('cov:c_y', 1, inplace=True)\n",
      "/tmp/ipykernel_2125068/4232687330.py:145: FutureWarning: In a future version of pandas all arguments of DataFrame.drop except for the argument 'labels' will be keyword-only.\n",
      "  join.drop('cov:c_y', 1, inplace=True)\n",
      "/tmp/ipykernel_2125068/4232687330.py:145: FutureWarning: In a future version of pandas all arguments of DataFrame.drop except for the argument 'labels' will be keyword-only.\n",
      "  join.drop('cov:c_y', 1, inplace=True)\n",
      "/tmp/ipykernel_2125068/4232687330.py:145: FutureWarning: In a future version of pandas all arguments of DataFrame.drop except for the argument 'labels' will be keyword-only.\n",
      "  join.drop('cov:c_y', 1, inplace=True)\n",
      "/tmp/ipykernel_2125068/4232687330.py:145: FutureWarning: In a future version of pandas all arguments of DataFrame.drop except for the argument 'labels' will be keyword-only.\n",
      "  join.drop('cov:c_y', 1, inplace=True)\n",
      "/tmp/ipykernel_2125068/4232687330.py:145: FutureWarning: In a future version of pandas all arguments of DataFrame.drop except for the argument 'labels' will be keyword-only.\n",
      "  join.drop('cov:c_y', 1, inplace=True)\n",
      "/tmp/ipykernel_2125068/4232687330.py:145: FutureWarning: In a future version of pandas all arguments of DataFrame.drop except for the argument 'labels' will be keyword-only.\n",
      "  join.drop('cov:c_y', 1, inplace=True)\n",
      "/tmp/ipykernel_2125068/4232687330.py:145: FutureWarning: In a future version of pandas all arguments of DataFrame.drop except for the argument 'labels' will be keyword-only.\n",
      "  join.drop('cov:c_y', 1, inplace=True)\n",
      "/tmp/ipykernel_2125068/4232687330.py:145: FutureWarning: In a future version of pandas all arguments of DataFrame.drop except for the argument 'labels' will be keyword-only.\n",
      "  join.drop('cov:c_y', 1, inplace=True)\n",
      "/tmp/ipykernel_2125068/4232687330.py:145: FutureWarning: In a future version of pandas all arguments of DataFrame.drop except for the argument 'labels' will be keyword-only.\n",
      "  join.drop('cov:c_y', 1, inplace=True)\n",
      "/tmp/ipykernel_2125068/4232687330.py:145: FutureWarning: In a future version of pandas all arguments of DataFrame.drop except for the argument 'labels' will be keyword-only.\n",
      "  join.drop('cov:c_y', 1, inplace=True)\n",
      "/tmp/ipykernel_2125068/4232687330.py:145: FutureWarning: In a future version of pandas all arguments of DataFrame.drop except for the argument 'labels' will be keyword-only.\n",
      "  join.drop('cov:c_y', 1, inplace=True)\n",
      "/tmp/ipykernel_2125068/4232687330.py:145: FutureWarning: In a future version of pandas all arguments of DataFrame.drop except for the argument 'labels' will be keyword-only.\n",
      "  join.drop('cov:c_y', 1, inplace=True)\n",
      "/tmp/ipykernel_2125068/4232687330.py:145: FutureWarning: In a future version of pandas all arguments of DataFrame.drop except for the argument 'labels' will be keyword-only.\n",
      "  join.drop('cov:c_y', 1, inplace=True)\n",
      "/tmp/ipykernel_2125068/4232687330.py:145: FutureWarning: In a future version of pandas all arguments of DataFrame.drop except for the argument 'labels' will be keyword-only.\n",
      "  join.drop('cov:c_y', 1, inplace=True)\n",
      "/tmp/ipykernel_2125068/4232687330.py:145: FutureWarning: In a future version of pandas all arguments of DataFrame.drop except for the argument 'labels' will be keyword-only.\n",
      "  join.drop('cov:c_y', 1, inplace=True)\n",
      "/tmp/ipykernel_2125068/4232687330.py:145: FutureWarning: In a future version of pandas all arguments of DataFrame.drop except for the argument 'labels' will be keyword-only.\n",
      "  join.drop('cov:c_y', 1, inplace=True)\n",
      "/tmp/ipykernel_2125068/4232687330.py:145: FutureWarning: In a future version of pandas all arguments of DataFrame.drop except for the argument 'labels' will be keyword-only.\n",
      "  join.drop('cov:c_y', 1, inplace=True)\n",
      "/tmp/ipykernel_2125068/4232687330.py:145: FutureWarning: In a future version of pandas all arguments of DataFrame.drop except for the argument 'labels' will be keyword-only.\n",
      "  join.drop('cov:c_y', 1, inplace=True)\n",
      "/tmp/ipykernel_2125068/4232687330.py:145: FutureWarning: In a future version of pandas all arguments of DataFrame.drop except for the argument 'labels' will be keyword-only.\n",
      "  join.drop('cov:c_y', 1, inplace=True)\n",
      "/tmp/ipykernel_2125068/4232687330.py:145: FutureWarning: In a future version of pandas all arguments of DataFrame.drop except for the argument 'labels' will be keyword-only.\n",
      "  join.drop('cov:c_y', 1, inplace=True)\n",
      "/tmp/ipykernel_2125068/4232687330.py:145: FutureWarning: In a future version of pandas all arguments of DataFrame.drop except for the argument 'labels' will be keyword-only.\n",
      "  join.drop('cov:c_y', 1, inplace=True)\n",
      "/tmp/ipykernel_2125068/4232687330.py:145: FutureWarning: In a future version of pandas all arguments of DataFrame.drop except for the argument 'labels' will be keyword-only.\n",
      "  join.drop('cov:c_y', 1, inplace=True)\n",
      "/tmp/ipykernel_2125068/4232687330.py:145: FutureWarning: In a future version of pandas all arguments of DataFrame.drop except for the argument 'labels' will be keyword-only.\n",
      "  join.drop('cov:c_y', 1, inplace=True)\n",
      "/tmp/ipykernel_2125068/4232687330.py:145: FutureWarning: In a future version of pandas all arguments of DataFrame.drop except for the argument 'labels' will be keyword-only.\n",
      "  join.drop('cov:c_y', 1, inplace=True)\n",
      "/tmp/ipykernel_2125068/4232687330.py:145: FutureWarning: In a future version of pandas all arguments of DataFrame.drop except for the argument 'labels' will be keyword-only.\n",
      "  join.drop('cov:c_y', 1, inplace=True)\n",
      "/tmp/ipykernel_2125068/4232687330.py:145: FutureWarning: In a future version of pandas all arguments of DataFrame.drop except for the argument 'labels' will be keyword-only.\n",
      "  join.drop('cov:c_y', 1, inplace=True)\n",
      "/tmp/ipykernel_2125068/4232687330.py:145: FutureWarning: In a future version of pandas all arguments of DataFrame.drop except for the argument 'labels' will be keyword-only.\n",
      "  join.drop('cov:c_y', 1, inplace=True)\n",
      "/tmp/ipykernel_2125068/4232687330.py:145: FutureWarning: In a future version of pandas all arguments of DataFrame.drop except for the argument 'labels' will be keyword-only.\n",
      "  join.drop('cov:c_y', 1, inplace=True)\n",
      "/tmp/ipykernel_2125068/4232687330.py:145: FutureWarning: In a future version of pandas all arguments of DataFrame.drop except for the argument 'labels' will be keyword-only.\n",
      "  join.drop('cov:c_y', 1, inplace=True)\n",
      "/tmp/ipykernel_2125068/4232687330.py:145: FutureWarning: In a future version of pandas all arguments of DataFrame.drop except for the argument 'labels' will be keyword-only.\n",
      "  join.drop('cov:c_y', 1, inplace=True)\n",
      "/tmp/ipykernel_2125068/4232687330.py:145: FutureWarning: In a future version of pandas all arguments of DataFrame.drop except for the argument 'labels' will be keyword-only.\n",
      "  join.drop('cov:c_y', 1, inplace=True)\n",
      "/tmp/ipykernel_2125068/4232687330.py:145: FutureWarning: In a future version of pandas all arguments of DataFrame.drop except for the argument 'labels' will be keyword-only.\n",
      "  join.drop('cov:c_y', 1, inplace=True)\n",
      "/tmp/ipykernel_2125068/4232687330.py:145: FutureWarning: In a future version of pandas all arguments of DataFrame.drop except for the argument 'labels' will be keyword-only.\n",
      "  join.drop('cov:c_y', 1, inplace=True)\n",
      "/tmp/ipykernel_2125068/4232687330.py:145: FutureWarning: In a future version of pandas all arguments of DataFrame.drop except for the argument 'labels' will be keyword-only.\n",
      "  join.drop('cov:c_y', 1, inplace=True)\n",
      "/tmp/ipykernel_2125068/4232687330.py:145: FutureWarning: In a future version of pandas all arguments of DataFrame.drop except for the argument 'labels' will be keyword-only.\n",
      "  join.drop('cov:c_y', 1, inplace=True)\n",
      "/tmp/ipykernel_2125068/4232687330.py:145: FutureWarning: In a future version of pandas all arguments of DataFrame.drop except for the argument 'labels' will be keyword-only.\n",
      "  join.drop('cov:c_y', 1, inplace=True)\n",
      "/tmp/ipykernel_2125068/4232687330.py:145: FutureWarning: In a future version of pandas all arguments of DataFrame.drop except for the argument 'labels' will be keyword-only.\n",
      "  join.drop('cov:c_y', 1, inplace=True)\n",
      "/tmp/ipykernel_2125068/4232687330.py:145: FutureWarning: In a future version of pandas all arguments of DataFrame.drop except for the argument 'labels' will be keyword-only.\n",
      "  join.drop('cov:c_y', 1, inplace=True)\n",
      "/tmp/ipykernel_2125068/4232687330.py:145: FutureWarning: In a future version of pandas all arguments of DataFrame.drop except for the argument 'labels' will be keyword-only.\n",
      "  join.drop('cov:c_y', 1, inplace=True)\n",
      "/tmp/ipykernel_2125068/4232687330.py:145: FutureWarning: In a future version of pandas all arguments of DataFrame.drop except for the argument 'labels' will be keyword-only.\n",
      "  join.drop('cov:c_y', 1, inplace=True)\n",
      "/tmp/ipykernel_2125068/4232687330.py:145: FutureWarning: In a future version of pandas all arguments of DataFrame.drop except for the argument 'labels' will be keyword-only.\n",
      "  join.drop('cov:c_y', 1, inplace=True)\n",
      "/tmp/ipykernel_2125068/4232687330.py:145: FutureWarning: In a future version of pandas all arguments of DataFrame.drop except for the argument 'labels' will be keyword-only.\n",
      "  join.drop('cov:c_y', 1, inplace=True)\n",
      "/tmp/ipykernel_2125068/4232687330.py:145: FutureWarning: In a future version of pandas all arguments of DataFrame.drop except for the argument 'labels' will be keyword-only.\n",
      "  join.drop('cov:c_y', 1, inplace=True)\n",
      "/tmp/ipykernel_2125068/4232687330.py:145: FutureWarning: In a future version of pandas all arguments of DataFrame.drop except for the argument 'labels' will be keyword-only.\n",
      "  join.drop('cov:c_y', 1, inplace=True)\n",
      "/tmp/ipykernel_2125068/4232687330.py:145: FutureWarning: In a future version of pandas all arguments of DataFrame.drop except for the argument 'labels' will be keyword-only.\n",
      "  join.drop('cov:c_y', 1, inplace=True)\n",
      "/tmp/ipykernel_2125068/4232687330.py:145: FutureWarning: In a future version of pandas all arguments of DataFrame.drop except for the argument 'labels' will be keyword-only.\n",
      "  join.drop('cov:c_y', 1, inplace=True)\n",
      "/tmp/ipykernel_2125068/4232687330.py:145: FutureWarning: In a future version of pandas all arguments of DataFrame.drop except for the argument 'labels' will be keyword-only.\n",
      "  join.drop('cov:c_y', 1, inplace=True)\n",
      "/tmp/ipykernel_2125068/4232687330.py:145: FutureWarning: In a future version of pandas all arguments of DataFrame.drop except for the argument 'labels' will be keyword-only.\n",
      "  join.drop('cov:c_y', 1, inplace=True)\n",
      "/tmp/ipykernel_2125068/4232687330.py:145: FutureWarning: In a future version of pandas all arguments of DataFrame.drop except for the argument 'labels' will be keyword-only.\n",
      "  join.drop('cov:c_y', 1, inplace=True)\n",
      "/tmp/ipykernel_2125068/4232687330.py:145: FutureWarning: In a future version of pandas all arguments of DataFrame.drop except for the argument 'labels' will be keyword-only.\n",
      "  join.drop('cov:c_y', 1, inplace=True)\n",
      "/tmp/ipykernel_2125068/4232687330.py:145: FutureWarning: In a future version of pandas all arguments of DataFrame.drop except for the argument 'labels' will be keyword-only.\n",
      "  join.drop('cov:c_y', 1, inplace=True)\n",
      "/tmp/ipykernel_2125068/4232687330.py:145: FutureWarning: In a future version of pandas all arguments of DataFrame.drop except for the argument 'labels' will be keyword-only.\n",
      "  join.drop('cov:c_y', 1, inplace=True)\n",
      "/tmp/ipykernel_2125068/4232687330.py:145: FutureWarning: In a future version of pandas all arguments of DataFrame.drop except for the argument 'labels' will be keyword-only.\n",
      "  join.drop('cov:c_y', 1, inplace=True)\n",
      "/tmp/ipykernel_2125068/4232687330.py:145: FutureWarning: In a future version of pandas all arguments of DataFrame.drop except for the argument 'labels' will be keyword-only.\n",
      "  join.drop('cov:c_y', 1, inplace=True)\n",
      "/tmp/ipykernel_2125068/4232687330.py:145: FutureWarning: In a future version of pandas all arguments of DataFrame.drop except for the argument 'labels' will be keyword-only.\n",
      "  join.drop('cov:c_y', 1, inplace=True)\n",
      "/tmp/ipykernel_2125068/4232687330.py:145: FutureWarning: In a future version of pandas all arguments of DataFrame.drop except for the argument 'labels' will be keyword-only.\n",
      "  join.drop('cov:c_y', 1, inplace=True)\n",
      "/tmp/ipykernel_2125068/4232687330.py:145: FutureWarning: In a future version of pandas all arguments of DataFrame.drop except for the argument 'labels' will be keyword-only.\n",
      "  join.drop('cov:c_y', 1, inplace=True)\n",
      "/tmp/ipykernel_2125068/4232687330.py:145: FutureWarning: In a future version of pandas all arguments of DataFrame.drop except for the argument 'labels' will be keyword-only.\n",
      "  join.drop('cov:c_y', 1, inplace=True)\n"
     ]
    }
   ],
   "source": [
    "# study the effects of multiplicity\n",
    "result = []\n",
    "\n",
    "# DP parameters\n",
    "eps = 1\n",
    "delta = 0.05\n",
    "bound = 10\n",
    "\n",
    "\n",
    "\n",
    "for num_rows_per_group in [100, 500, 1000, 5000]:\n",
    "    for _ in range(10):\n",
    "        # data parameters\n",
    "        buyer_att = 2\n",
    "        seller_att = 1\n",
    "        num_att = buyer_att + seller_att\n",
    "        num_group = 3\n",
    "        num_rows_per_group = num_rows_per_group\n",
    "        num_rows = num_group * num_rows_per_group\n",
    "        columns = [f\"f{i}\" for i in range(num_att)]\n",
    "        buyer_columns = columns[:buyer_att]\n",
    "        seller_columns = columns[buyer_att:]\n",
    "\n",
    "\n",
    "        # create data\n",
    "        mean, cov = get_pos_def_mean_cov(num_att)\n",
    "        df = pd.DataFrame(np.random.multivariate_normal(mean, cov, num_rows), columns=columns)\n",
    "        clip_data(df, bound)\n",
    "        joinkey = []\n",
    "        for i in range(num_group):\n",
    "            joinkey += [i] * num_rows_per_group \n",
    "        df[\"join_key\"] = joinkey\n",
    "        # bound = get_l2_bound(df)\n",
    "\n",
    "        # multiplied by 2 because of histogram\n",
    "        sensitivity = 2*(bound**4 + bound**2 + 1)**0.5\n",
    "\n",
    "        # we use the original dataset without noise as testing data\n",
    "        buyeragg = agg_dataset()\n",
    "        buyeragg.load(df[buyer_columns + [\"join_key\"]].copy(deep=True), buyer_columns, [\"join_key\"])\n",
    "        buyeragg.compute_agg()\n",
    "\n",
    "        selleragg = agg_dataset()\n",
    "        selleragg.load(df[seller_columns + [\"join_key\"]].copy(deep=True), seller_columns, [\"join_key\"])\n",
    "        selleragg.compute_agg()\n",
    "\n",
    "        join_train = join_agg(selleragg, buyeragg, \"join_key\")\n",
    "        join_train_cov = join_train.sum()\n",
    "        join_unbiased_train_cov = unbiased_est(join_train_cov.copy(deep=True), buyer_att, seller_att, num_group, num_rows_per_group)\n",
    "\n",
    "        X = columns[1:]\n",
    "        y = columns[0]\n",
    "        ridge = 0\n",
    "        unbiased_parameter = ridge_linear_regression(join_unbiased_train_cov, X, y, ridge)\n",
    "\n",
    "        noise = compute_std(eps, delta, sensitivity)\n",
    "\n",
    "        # impute noise\n",
    "        for col in selleragg.semi_ring_columns():\n",
    "            selleragg.agg_dimensions[\"join_key\"][col] += np.random.normal(0, noise, len(selleragg.agg_dimensions[\"join_key\"]))\n",
    "\n",
    "        for col in buyeragg.semi_ring_columns():\n",
    "            buyeragg.agg_dimensions[\"join_key\"][col] += np.random.normal(0, noise, len(buyeragg.agg_dimensions[\"join_key\"]))\n",
    "\n",
    "        join_train = join_agg(selleragg, buyeragg, \"join_key\")\n",
    "        join_train_cov = join_train.sum()\n",
    "        join_unbiased_train_cov = unbiased_est(join_train_cov.copy(deep=True), buyer_att, seller_att, num_group, num_rows_per_group)\n",
    "        noisy_parameter = ridge_linear_regression(join_unbiased_train_cov, X, y, ridge)\n",
    "\n",
    "        dis = get_l2_distance(unbiased_parameter, noisy_parameter)\n",
    "        result.append([num_rows_per_group,dis])"
   ]
  },
  {
   "cell_type": "code",
   "execution_count": 689,
   "metadata": {},
   "outputs": [
    {
     "data": {
      "text/plain": [
       "<AxesSubplot:title={'center':'dis'}, xlabel='num_rows_per_group'>"
      ]
     },
     "execution_count": 689,
     "metadata": {},
     "output_type": "execute_result"
    },
    {
     "data": {
      "image/png": "[encoded data removed]",
      "text/plain": [
       "<Figure size 432x288 with 1 Axes>"
      ]
     },
     "metadata": {
      "needs_background": "light"
     },
     "output_type": "display_data"
    }
   ],
   "source": [
    "pd.DataFrame.from_records(result, columns = ['num_rows_per_group','dis']).boxplot(by ='num_rows_per_group', column =['dis'], grid = False, showfliers=False)"
   ]
  },
  {
   "cell_type": "code",
   "execution_count": null,
   "metadata": {},
   "outputs": [],
   "source": []
  },
  {
   "cell_type": "code",
   "execution_count": null,
   "metadata": {},
   "outputs": [],
   "source": []
  }
 ],
 "metadata": {
  "colab": {
   "provenance": []
  },
  "instance_type": "ml.t3.medium",
  "kernelspec": {
   "display_name": "Python 3 (Data Science)",
   "language": "python",
   "name": "python3__SAGEMAKER_INTERNAL__arn:aws:sagemaker:us-east-1:081325390199:image/datascience-1.0"
  },
  "language_info": {
   "codemirror_mode": {
    "name": "ipython",
    "version": 3
   },
   "file_extension": ".py",
   "mimetype": "text/x-python",
   "name": "python",
   "nbconvert_exporter": "python",
   "pygments_lexer": "ipython3",
   "version": "3.7.10"
  }
 },
 "nbformat": 4,
 "nbformat_minor": 4
}
